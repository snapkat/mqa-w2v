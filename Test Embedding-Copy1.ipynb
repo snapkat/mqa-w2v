{
 "cells": [
  {
   "cell_type": "code",
   "execution_count": 75,
   "metadata": {
    "collapsed": false
   },
   "outputs": [],
   "source": [
    "import numpy as np"
   ]
  },
  {
   "cell_type": "code",
   "execution_count": 76,
   "metadata": {
    "collapsed": true
   },
   "outputs": [],
   "source": [
    "# Filenames\n",
    "EXT =  \"plt_large\"\n",
    "ID_MAP_FILE = \"id_map_%s.pkl\" % EXT\n",
    "EMBED_FILE = \"embed_%s.npz\" % EXT\n",
    "\n",
    "SYMBOLS_TO_REPLACE = '!\"#$%&()*+,./:;<=>?@[\\]^_`{|}~-' + \"'\"\n",
    "SYMBOLS_TO_REMOVE = '\"#$%&()*+,/:;<=>@[\\]^_`{|}~-' + \"'?!\""
   ]
  },
  {
   "cell_type": "code",
   "execution_count": 77,
   "metadata": {
    "collapsed": false
   },
   "outputs": [
    {
     "data": {
      "text/plain": [
       "(61273, 128)"
      ]
     },
     "execution_count": 77,
     "metadata": {},
     "output_type": "execute_result"
    }
   ],
   "source": [
    "embed = []\n",
    "with np.load(EMBED_FILE) as f:\n",
    "     embed = f['embed']\n",
    "embed.shape"
   ]
  },
  {
   "cell_type": "code",
   "execution_count": 78,
   "metadata": {
    "collapsed": false
   },
   "outputs": [
    {
     "name": "stdout",
     "output_type": "stream",
     "text": [
      "Vocab Length: 61273\n"
     ]
    }
   ],
   "source": [
    "import pickle\n",
    "def load_obj(name ):\n",
    "    with open(name, 'rb') as f:\n",
    "        return pickle.load(f)\n",
    "id_map = load_obj(ID_MAP_FILE)\n",
    "\n",
    "print \"Vocab Length:\", len(id_map)"
   ]
  },
  {
   "cell_type": "code",
   "execution_count": 79,
   "metadata": {
    "collapsed": true
   },
   "outputs": [],
   "source": [
    "def tokenize_text(words, id_map):\n",
    "    ''' Convert cleaned text into list of tokens/word-ids.\n",
    "    Args:\n",
    "      id_map: Hashmap from word to id. id of 0 is always 'UNK' unkown token.\n",
    "    Ret: list of ints (ids)\n",
    "    '''\n",
    "    words = words.split()\n",
    "    tokens = []\n",
    "    for i, word in enumerate(words):\n",
    "        id = 0 # 0 is UNK id\n",
    "        word = word.lower()\n",
    "        if word in id_map:\n",
    "            id = id_map[word]\n",
    "        tokens.append(id)\n",
    "\n",
    "    return np.array(tokens)\n",
    "\n",
    "def clean_text(text_raw):\n",
    "    text = text_raw\n",
    "    if isinstance(text_raw, list):\n",
    "        text = ' '.join(sentence for sentence in text_raw)\n",
    "    text = filter(lambda x: x not in SYMBOLS_TO_REMOVE, text)\n",
    "    text = text.split(\". \")\n",
    "    return text\n",
    "\n",
    "def clean_sentence(sentence_raw):\n",
    "    text = filter(lambda x: x not in (SYMBOLS_TO_REMOVE +'.'), sentence_raw)\n",
    "    return text"
   ]
  },
  {
   "cell_type": "code",
   "execution_count": 80,
   "metadata": {
    "collapsed": false
   },
   "outputs": [
    {
     "name": "stdout",
     "output_type": "stream",
     "text": [
      "Initialized MovieQA data loader!\n"
     ]
    }
   ],
   "source": [
    "import MovieQA\n",
    "mqa = MovieQA.DataLoader()\n",
    "story_raw, qa = mqa.get_story_qa_data('train', 'plot')"
   ]
  },
  {
   "cell_type": "code",
   "execution_count": 81,
   "metadata": {
    "collapsed": false
   },
   "outputs": [
    {
     "name": "stdout",
     "output_type": "stream",
     "text": [
      "[array([42,  0]), array([  935,     2,  1135,   145,  3069,     9,  9433,  1083,    89,\n",
      "          16,  2626,     9,   892, 18022,  3268,    16,  1744,    91,\n",
      "        3195,    33,   339,    10, 18023,    64,    10, 13356,  2316]), array([   10,  1881,  4780,    78,     0,  6377,   103,   161,    33,\n",
      "        1419,   566,    42,    10, 11902,  2571,  1045,   106,    16,\n",
      "         135, 14897,  3745,    42,    10,  3901]), array([  756,  1451, 18024,     9,   672,    23,  4024,    12,    13,\n",
      "         257,  2184,    16,    13, 13281,    33,    46,   566,    98,\n",
      "       17532,  3092,    78,     0]), array([  323,  2997,    10,  1646, 13281,    78,    10,  1882,   180,\n",
      "         181,  2829,    73,    33,   310, 10750,    12,  6596,    16,\n",
      "         280,    10, 10661,  1356,  1744,     9,    10,   219,    33,\n",
      "        5049,   284,   248,   161,  5326,  2380,    78,  3268]), array([   10, 18022,    91,  3420,    42,    80,  4692, 18025,    16,\n",
      "        1744,     9, 10067,    78,    23,  5731,  2184,  4056,    33,\n",
      "         289,  4959,    12,  1252,    52,   482,     9,  1033,    13,\n",
      "       10661,  1451,    16,  3268,    78,    13, 18026,    40,     9,\n",
      "       11688,   124,   469]), array([ 1744,     9,  2250,    78,   161,  5731,  2184,   134,    23,\n",
      "         725,    12, 11871,    17,  9644,  5200,    16, 18027]), array([ 3268,    16,   161, 18026,   579,   310,   412,  6588,   970,\n",
      "          33,  4008,    73,    59,  1744,   498,   289,    43,  2895,\n",
      "        4259,    10,     0,  5676,   134,    10,  1407,  5198,    12,\n",
      "          10,  1317,     0])]\n",
      "['On V.E', 'Day in 1945 as peace is declared across Europe and London is celebrating Princesses Elizabeth and Margaret are allowed to join the celebrations against the Queens wishes', 'The King impressed by Elizabeths pleading asks her to report back on the peoples feelings towards him and his midnight speech on the radio', 'Each girl incognito is given a chaperone of an army officer and an itinerary to be back at Buckingham Palace by 1am', 'Soon realising the planned itinerary by the Queen does not live up to their expectations of fun and meeting the ordinary people Margaret is the first to slip away from her escort followed by Elizabeth', 'The Princesses are separated on two different buses and Margaret is befriended by a Naval Officer seeking to take advantage of what he believes is just an ordinary girl and Elizabeth by an airman who is absent without leave', 'Margaret is led by her Naval Officer into a world of nightclubs gambling spiked drinks and brothels', 'Elizabeth and her airman have their own adventures trying to catch up with Margaret which take them far beyond the 1am deadline into the early hours of the following morning.']\n"
     ]
    }
   ],
   "source": [
    "story = {}\n",
    "story_lines = {}\n",
    "for imdb_key in story_raw:\n",
    "    tk_sent = []\n",
    "    story_lines[imdb_key] = clean_text(story_raw[imdb_key])\n",
    "    for line in story_lines[imdb_key]:\n",
    "        tk_sent.append(tokenize_text(line, id_map))\n",
    "    story[imdb_key] = tk_sent\n",
    "    #story_lines[imdb_key] =  text\n",
    "    \n",
    "print story[imdb_key]\n",
    "print story_lines[imdb_key]"
   ]
  },
  {
   "cell_type": "code",
   "execution_count": 82,
   "metadata": {
    "collapsed": false
   },
   "outputs": [
    {
     "name": "stderr",
     "output_type": "stream",
     "text": [
      "/Users/Snapkat/anaconda/envs/py27/lib/python2.7/site-packages/ipykernel/__main__.py:7: FutureWarning: elementwise comparison failed; returning scalar instead, but in the future will perform elementwise comparison\n"
     ]
    }
   ],
   "source": [
    "def normalize(mat):\n",
    "    if mat.ndim == 1:\n",
    "        return mat/np.linalg.norm(mat)\n",
    "    return mat/np.linalg.norm(mat, axis=1, keepdims=True)\n",
    "\n",
    "for key in story:\n",
    "    plot_vects = np.array([np.average(embed[sentence], axis=0) for sentence in story[key] if np.all(sentence!='')])\n",
    "    plot_vects = normalize(plot_vects)\n",
    "    story[key] = plot_vects"
   ]
  },
  {
   "cell_type": "code",
   "execution_count": 83,
   "metadata": {
    "collapsed": false
   },
   "outputs": [],
   "source": [
    "nCorrect = 0\n",
    "nTried = len(qa)\n",
    "for q in qa:\n",
    "    # Process Question\n",
    "    question = clean_sentence(q.question) \n",
    "    question = np.average(embed[tokenize_text(question, id_map)], axis=0)\n",
    "    question = normalize(question)\n",
    "\n",
    "    # Process answers\n",
    "    answers = []\n",
    "    for a in q.answers:\n",
    "        if a == '':\n",
    "            continue\n",
    "        a_clean = clean_sentence(a)\n",
    "        answers.append(np.average(embed[tokenize_text(a_clean, id_map)], axis=0))\n",
    "    answers = normalize(np.array(answers))\n",
    "    \n",
    "    # Calculate similarity\n",
    "    qscore = story[q.imdb_key].dot(question).reshape(-1, 1)\n",
    "    ascore = story[q.imdb_key].dot(answers.T)\n",
    "    score = ascore + qscore\n",
    "    prediction = np.unravel_index(score.argmax(), score.shape)\n",
    "    '''print score[prediction], np.amax(score)\n",
    "    print prediction\n",
    "    print q.correct_index'''\n",
    "    if prediction[1] == q.correct_index:\n",
    "        nCorrect+=1\n",
    "        '''\n",
    "        print \"CORRRECTTTTTT!!!!\"\n",
    "    else:\n",
    "        print \"Incorrect D:\"\n",
    "    print \"Question: \", q.question\n",
    "    print \"Correct: \", q.answers[q.correct_index]\n",
    "    print \n",
    "    print \"Ref: \", story_lines[q.imdb_key][prediction[0]]\n",
    "    print \"Model Chose: \", q.answers[prediction[1]]\n",
    "    print '------------------' #'''"
   ]
  },
  {
   "cell_type": "code",
   "execution_count": 74,
   "metadata": {
    "collapsed": false
   },
   "outputs": [
    {
     "name": "stdout",
     "output_type": "stream",
     "text": [
      "(128,)\n",
      "['Gary Hook a new recruit to the British Army takes leave of his much younger brother Darren', 'Hooks squad of British soldiers is sent to Belfast in 1971 in the early years of The Troubles', 'Under the leadership of the inexperienced Lieutenant Armitage his squad goes to a volatile area of Belfast where Catholic Nationalists and Protestant Loyalists live side by side', 'The unit provides support for the Royal Ulster Constabulary as it inspects homes for firearms shocking Hook with their rough treatment of women and children', 'The Catholic neighbourhood has been alerted to the activity and a crowd gathers to protest and provoke the British troops who though heavily armed can only respond by trying to hold the crowd back', 'One soldier leaves his gun on the ground in the confusion and a young boy runs off through the mob with it Hook and another pursue him', 'As the crowds protest escalates into rockthrowing the soldiers and police pull out leaving the two soldiers behind', 'Hook and the other soldier are briefly rescued by a sympathetic woman who fails to hold back a small crowd who are beating them', 'Hook sees the other soldier shot dead at point blank range by the young Nationalist Paul Haggerty and then with the crowd physically engaging Haggerty flees through streets and back alleys finally eluding his pursuers and hiding until dark', 'A Protestant youngster brings Hook to a local pub that serves as a front for the Loyalists where he glimpses a Loyalist group in a back room constructing a bomb under the guidance of the Military Reaction Force MRF the covert counterinsurgency unit of the British Army', 'Hook steps outside the pub just before an enormous explosion destroys the building', 'Hook flees once more into the dark streets', 'Unaware that the Loyalists have blown themselves up each of the two IRA factions charges the other with responsibility for the bombing', 'Two Catholics Eamon and his daughter Brigid discover Hook as he lies unconscious in the street', 'They take him to their apartment and even though they discover he is a British soldier Eamon stitches his wounds', 'Eamon contacts Boyle a senior IRA official for help expecting a more humane solution than the younger IRA faction would allow', 'Boyle less radical and violent than younger IRA members has a working relationship with the MRF', 'He tells MRF Captain Browning leader of the British MRF section of Hooks whereabouts and asks in return that Browning assassinate James Quinn a key leader of the younger IRA faction', 'Quinn and his IRA squad have been tailing Boyle since the pub explosion and saw him visit Eamons apartment without knowing why he was there', 'Sensing danger Hook flees the apartment taking with him a sheathed blade', 'Moving painfully through the apartment complex halls and stairways he eludes the IRA men who have separated to search for him', 'Finally unable to get away from Haggerty who is about to come around a corner and discover him Hook stabs him', 'As the wounded man lies dying Hook reaches down and grasps his shoulder sharing strength and sympathy as they hold each others gaze and the IRA man dies', 'Hook is captured by Quinns group and taken to a hideout', 'Quinn orders Sean a young teen whom Quinn has recruited to execute Hook', 'When Sean hesitates Quinn prepares to execute Hook', 'Brownings group arrives and Lewis to Hooks horror shoots Sean', 'Lewis attempts to strangle Hook to prevent him from informing others of the bomb', 'As Lieutenant Armitage and his men enter in support of Browning Armitage sees Lewis attempt to kill Hook', 'Sean raises himself and fires at Lewis before being shot by Armitage', 'Browning finds Quinn and rather than arrest him tells him Boyle wants him dead', 'He promises to contact him soon telling him he expects him to prove to be reasonable', 'Hook returns to his barracks', 'Later despite a formal complaint by Armitage the officer in charge dismisses the incident between Hook Lewis and Sean as a confused situation that merits no further inquiry', 'Hook returns to England and reunites with Darren.']\n"
     ]
    }
   ],
   "source": [
    "print(plot_vects[0].shape)\n",
    "print story_lines[q.imdb_key]"
   ]
  },
  {
   "cell_type": "code",
   "execution_count": 84,
   "metadata": {
    "collapsed": false
   },
   "outputs": [
    {
     "data": {
      "text/plain": [
       "0.4123679935012185"
      ]
     },
     "execution_count": 84,
     "metadata": {},
     "output_type": "execute_result"
    }
   ],
   "source": [
    "float(nCorrect)/nTried"
   ]
  },
  {
   "cell_type": "code",
   "execution_count": null,
   "metadata": {
    "collapsed": true
   },
   "outputs": [],
   "source": []
  }
 ],
 "metadata": {
  "anaconda-cloud": {},
  "kernelspec": {
   "display_name": "Python [py27]",
   "language": "python",
   "name": "Python [py27]"
  },
  "language_info": {
   "codemirror_mode": {
    "name": "ipython",
    "version": 2
   },
   "file_extension": ".py",
   "mimetype": "text/x-python",
   "name": "python",
   "nbconvert_exporter": "python",
   "pygments_lexer": "ipython2",
   "version": "2.7.12"
  }
 },
 "nbformat": 4,
 "nbformat_minor": 0
}
