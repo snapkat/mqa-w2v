{
 "cells": [
  {
   "cell_type": "code",
   "execution_count": 106,
   "metadata": {
    "collapsed": false
   },
   "outputs": [],
   "source": [
    "import numpy as np"
   ]
  },
  {
   "cell_type": "code",
   "execution_count": 107,
   "metadata": {
    "collapsed": true
   },
   "outputs": [],
   "source": [
    "# Filenames\n",
    "EXT =  \"plt\"\n",
    "ID_MAP_FILE = \"id_map_%s.pkl\" % EXT\n",
    "EMBED_FILE = \"embed_%s.npz\" % EXT\n",
    "\n",
    "SYMBOLS_TO_REPLACE = '!\"#$%&()*+,./:;<=>?@[\\]^_`{|}~-' + \"'\"\n",
    "SYMBOLS_TO_REMOVE = '\"#$%&()*+,/:;<=>@[\\]^_`{|}~-' + \"'?!\""
   ]
  },
  {
   "cell_type": "code",
   "execution_count": 108,
   "metadata": {
    "collapsed": false
   },
   "outputs": [
    {
     "data": {
      "text/plain": [
       "(34864, 128)"
      ]
     },
     "execution_count": 108,
     "metadata": {},
     "output_type": "execute_result"
    }
   ],
   "source": [
    "embed = []\n",
    "with np.load(EMBED_FILE) as f:\n",
    "     embed = f['embed']\n",
    "embed.shape"
   ]
  },
  {
   "cell_type": "code",
   "execution_count": 109,
   "metadata": {
    "collapsed": false
   },
   "outputs": [
    {
     "name": "stdout",
     "output_type": "stream",
     "text": [
      "Vocab Length: 34864\n"
     ]
    }
   ],
   "source": [
    "import pickle\n",
    "def load_obj(name ):\n",
    "    with open(name, 'rb') as f:\n",
    "        return pickle.load(f)\n",
    "id_map = load_obj(ID_MAP_FILE)\n",
    "\n",
    "print \"Vocab Length:\", len(id_map)"
   ]
  },
  {
   "cell_type": "code",
   "execution_count": 110,
   "metadata": {
    "collapsed": true
   },
   "outputs": [],
   "source": [
    "def tokenize_text(words, id_map):\n",
    "    ''' Convert cleaned text into list of tokens/word-ids.\n",
    "    Args:\n",
    "      id_map: Hashmap from word to id. id of 0 is always 'UNK' unkown token.\n",
    "    Ret: list of ints (ids)\n",
    "    '''\n",
    "    words = words.split()\n",
    "    tokens = []\n",
    "    for i, word in enumerate(words):\n",
    "        id = 0 # 0 is UNK id\n",
    "        word = word.lower()\n",
    "        if word in id_map:\n",
    "            id = id_map[word]\n",
    "        tokens.append(id)\n",
    "\n",
    "    return np.array(tokens)\n",
    "\n",
    "def clean_text(text_raw):\n",
    "    text = text_raw\n",
    "    if isinstance(text_raw, list):\n",
    "        text = ' '.join(sentence for sentence in text_raw)\n",
    "    text = filter(lambda x: x not in SYMBOLS_TO_REMOVE, text)\n",
    "    text = text.split(\". \")\n",
    "    return text\n",
    "\n",
    "def clean_sentence(sentence_raw):\n",
    "    text = filter(lambda x: x not in (SYMBOLS_TO_REMOVE +'.'), sentence_raw)\n",
    "    return text"
   ]
  },
  {
   "cell_type": "code",
   "execution_count": 111,
   "metadata": {
    "collapsed": false
   },
   "outputs": [
    {
     "name": "stdout",
     "output_type": "stream",
     "text": [
      "Initialized MovieQA data loader!\n"
     ]
    }
   ],
   "source": [
    "import MovieQA\n",
    "mqa = MovieQA.DataLoader()\n",
    "story_raw, qa = mqa.get_story_qa_data('train', 'plot')"
   ]
  },
  {
   "cell_type": "code",
   "execution_count": 112,
   "metadata": {
    "collapsed": false
   },
   "outputs": [
    {
     "name": "stdout",
     "output_type": "stream",
     "text": [
      "[array([42,  0]), array([  935,     2,  1135,   145,  3069,     9,  9433,  1083,    89,\n",
      "          16,  2626,     9,   892, 18022,  3268,    16,  1744,    91,\n",
      "        3195,    33,   339,    10, 18023,    64,    10, 13356,  2316]), array([   10,  1881,  4780,    78,     0,  6377,   103,   161,    33,\n",
      "        1419,   566,    42,    10, 11902,  2571,  1045,   106,    16,\n",
      "         135, 14897,  3745,    42,    10,  3901]), array([  756,  1451, 18024,     9,   672,    23,  4024,    12,    13,\n",
      "         257,  2184,    16,    13, 13281,    33,    46,   566,    98,\n",
      "       17532,  3092,    78,     0]), array([  323,  2997,    10,  1646, 13281,    78,    10,  1882,   180,\n",
      "         181,  2829,    73,    33,   310, 10750,    12,  6596,    16,\n",
      "         280,    10, 10661,  1356,  1744,     9,    10,   219,    33,\n",
      "        5049,   284,   248,   161,  5326,  2380,    78,  3268]), array([   10, 18022,    91,  3420,    42,    80,  4692, 18025,    16,\n",
      "        1744,     9, 10067,    78,    23,  5731,  2184,  4056,    33,\n",
      "         289,  4959,    12,  1252,    52,   482,     9,  1033,    13,\n",
      "       10661,  1451,    16,  3268,    78,    13, 18026,    40,     9,\n",
      "       11688,   124,   469]), array([ 1744,     9,  2250,    78,   161,  5731,  2184,   134,    23,\n",
      "         725,    12, 11871,    17,  9644,  5200,    16, 18027]), array([ 3268,    16,   161, 18026,   579,   310,   412,  6588,   970,\n",
      "          33,  4008,    73,    59,  1744,   498,   289,    43,  2895,\n",
      "        4259,    10,     0,  5676,   134,    10,  1407,  5198,    12,\n",
      "          10,  1317,     0])]\n",
      "['On V.E', 'Day in 1945 as peace is declared across Europe and London is celebrating Princesses Elizabeth and Margaret are allowed to join the celebrations against the Queens wishes', 'The King impressed by Elizabeths pleading asks her to report back on the peoples feelings towards him and his midnight speech on the radio', 'Each girl incognito is given a chaperone of an army officer and an itinerary to be back at Buckingham Palace by 1am', 'Soon realising the planned itinerary by the Queen does not live up to their expectations of fun and meeting the ordinary people Margaret is the first to slip away from her escort followed by Elizabeth', 'The Princesses are separated on two different buses and Margaret is befriended by a Naval Officer seeking to take advantage of what he believes is just an ordinary girl and Elizabeth by an airman who is absent without leave', 'Margaret is led by her Naval Officer into a world of nightclubs gambling spiked drinks and brothels', 'Elizabeth and her airman have their own adventures trying to catch up with Margaret which take them far beyond the 1am deadline into the early hours of the following morning.']\n"
     ]
    }
   ],
   "source": [
    "story = {}\n",
    "story_lines = {}\n",
    "for imdb_key in story_raw:\n",
    "    tk_sent = []\n",
    "    story_lines[imdb_key] = clean_text(story_raw[imdb_key])\n",
    "    for line in text:\n",
    "        tk_sent.append(tokenize_text(line, id_map))\n",
    "    story[imdb_key] = tk_sent\n",
    "    story_lines[imdb_key] =  text\n",
    "    \n",
    "print story[imdb_key]\n",
    "print story_lines[imdb_key]"
   ]
  },
  {
   "cell_type": "code",
   "execution_count": 113,
   "metadata": {
    "collapsed": false
   },
   "outputs": [
    {
     "name": "stderr",
     "output_type": "stream",
     "text": [
      "/Users/Snapkat/anaconda/envs/py27/lib/python2.7/site-packages/ipykernel/__main__.py:7: FutureWarning: elementwise comparison failed; returning scalar instead, but in the future will perform elementwise comparison\n"
     ]
    }
   ],
   "source": [
    "def normalize(mat):\n",
    "    if mat.ndim == 1:\n",
    "        return mat/np.linalg.norm(mat)\n",
    "    return mat/np.linalg.norm(mat, axis=1, keepdims=True)\n",
    "\n",
    "for key in story:\n",
    "    plot_vects = np.array([np.average(embed[sentence], axis=0) for sentence in story[key] if np.all(sentence!='')])\n",
    "    plot_vects = normalize(plot_vects)\n",
    "    story[key] = plot_vects"
   ]
  },
  {
   "cell_type": "code",
   "execution_count": 118,
   "metadata": {
    "collapsed": false
   },
   "outputs": [
    {
     "name": "stdout",
     "output_type": "stream",
     "text": [
      "Incorrect D:\n",
      "Question:  Why does Hook leave Eamon's apartment?\n",
      "Correct:  Because he senses danger.\n",
      "Ref:  The King impressed by Elizabeths pleading asks her to report back on the peoples feelings towards him and his midnight speech on the radio\n",
      "Incorrect:  Because he is called away.\n",
      "------------------\n",
      "Incorrect D:\n",
      "Question:  What does Hook take from Eamon's apartment as he flees?\n",
      "Correct:  A sheathed blade.\n",
      "Ref:  The King impressed by Elizabeths pleading asks her to report back on the peoples feelings towards him and his midnight speech on the radio\n",
      "Incorrect:  A knife and a sword.\n",
      "------------------\n",
      "Incorrect D:\n",
      "Question:  What does Hook do to avoid being discovered by Haggerty?\n",
      "Correct:  He stabs him.\n",
      "Ref:  The King impressed by Elizabeths pleading asks her to report back on the peoples feelings towards him and his midnight speech on the radio\n",
      "Incorrect:  He blinds him with a flashlight.\n",
      "------------------\n",
      "CORRRECTTTTTT!!!!\n",
      "Question:  What does Hook do after stabbing Haggerty?\n",
      "Correct:  He grasps his shoulder and looks him in the eyes.\n",
      "Ref:  The King impressed by Elizabeths pleading asks her to report back on the peoples feelings towards him and his midnight speech on the radio\n",
      "Incorrect:  He grasps his shoulder and looks him in the eyes.\n",
      "------------------\n",
      "Incorrect D:\n",
      "Question:  Who has followed Boyle to Eamon's apartment?\n",
      "Correct:  Quinn and his IRA squad.\n",
      "Ref:  Each girl incognito is given a chaperone of an army officer and an itinerary to be back at Buckingham Palace by 1am\n",
      "Incorrect:  Thommo and his IRA squad.\n",
      "------------------\n",
      "Incorrect D:\n",
      "Question:  Who is helping the Loyalists make the bomb?\n",
      "Correct:  The Military Reaction Force\n",
      "Ref:  The King impressed by Elizabeths pleading asks her to report back on the peoples feelings towards him and his midnight speech on the radio\n",
      "Incorrect:  The Catholic Ex-Serviceman's Association\n",
      "------------------\n",
      "Incorrect D:\n",
      "Question:  What happens just as Hook leaves the pub?\n",
      "Correct:  An explosion destroys the pub\n",
      "Ref:  The King impressed by Elizabeths pleading asks her to report back on the peoples feelings towards him and his midnight speech on the radio\n",
      "Incorrect:  An explosion destroys the building next-door to the pub\n",
      "------------------\n",
      "Incorrect D:\n",
      "Question:  How does Hook react to the explosion?\n",
      "Correct:  He flees into the street\n",
      "Ref:  The King impressed by Elizabeths pleading asks her to report back on the peoples feelings towards him and his midnight speech on the radio\n",
      "Incorrect:  He finds a payphone and calls the police\n",
      "------------------\n",
      "Incorrect D:\n",
      "Question:  What does Hook see at the local pub?\n",
      "Correct:  A Loyalist group constructing a bomb in a back room\n",
      "Ref:  The King impressed by Elizabeths pleading asks her to report back on the peoples feelings towards him and his midnight speech on the radio\n",
      "Incorrect:  A Loyalist group getting drunk in a back room\n",
      "------------------\n",
      "Incorrect D:\n",
      "Question:  Who finds Hook unconscious in the street?\n",
      "Correct:  Two Catholics\n",
      "Ref:  Elizabeth and her airman have their own adventures trying to catch up with Margaret which take them far beyond the 1am deadline into the early hours of the following morning.\n",
      "Incorrect:  Two Protestants\n",
      "------------------\n"
     ]
    }
   ],
   "source": [
    "nCorrect = 0\n",
    "nTried = len(qa)\n",
    "for q in qa[:10]:\n",
    "    # Process Question\n",
    "    question = clean_sentence(q.question) \n",
    "    question = np.average(embed[tokenize_text(question, id_map)], axis=0)\n",
    "    question = normalize(question)\n",
    "\n",
    "    # Process answers\n",
    "    answers = []\n",
    "    for a in q.answers:\n",
    "        if a == '':\n",
    "            continue\n",
    "        a_clean = clean_sentence(a)\n",
    "        answers.append(np.average(embed[tokenize_text(a_clean, id_map)], axis=0))\n",
    "    answers = normalize(np.array(answers))\n",
    "    \n",
    "    # Calculate similarity\n",
    "    qscore = story[q.imdb_key].dot(question).reshape(-1, 1)\n",
    "    ascore = story[q.imdb_key].dot(answers.T)\n",
    "    score = ascore + qscore\n",
    "    prediction = np.unravel_index(score.argmax(), score.shape)\n",
    "    '''print score[prediction], np.amax(score)\n",
    "    print prediction\n",
    "    print q.correct_index'''\n",
    "    if prediction[1] == q.correct_index:\n",
    "        nCorrect+=1\n",
    "        #'''\n",
    "        print \"CORRRECTTTTTT!!!!\"\n",
    "    else:\n",
    "        print \"Incorrect D:\"\n",
    "    print \"Question: \", q.question\n",
    "    print \"Correct: \", q.answers[q.correct_index]\n",
    "    print \"Ref: \", story_lines[q.imdb_key][prediction[0]]\n",
    "    print \"Incorrect: \", q.answers[prediction[1]]\n",
    "    print '------------------' #'''"
   ]
  },
  {
   "cell_type": "code",
   "execution_count": 115,
   "metadata": {
    "collapsed": false
   },
   "outputs": [
    {
     "name": "stdout",
     "output_type": "stream",
     "text": [
      "(128,)\n"
     ]
    }
   ],
   "source": [
    "print(plot_vects[0].shape)"
   ]
  },
  {
   "cell_type": "code",
   "execution_count": 116,
   "metadata": {
    "collapsed": false
   },
   "outputs": [
    {
     "data": {
      "text/plain": [
       "0.174553208773355"
      ]
     },
     "execution_count": 116,
     "metadata": {},
     "output_type": "execute_result"
    }
   ],
   "source": [
    "float(nCorrect)/nTried"
   ]
  },
  {
   "cell_type": "code",
   "execution_count": null,
   "metadata": {
    "collapsed": true
   },
   "outputs": [],
   "source": []
  }
 ],
 "metadata": {
  "anaconda-cloud": {},
  "kernelspec": {
   "display_name": "Python [py27]",
   "language": "python",
   "name": "Python [py27]"
  },
  "language_info": {
   "codemirror_mode": {
    "name": "ipython",
    "version": 2
   },
   "file_extension": ".py",
   "mimetype": "text/x-python",
   "name": "python",
   "nbconvert_exporter": "python",
   "pygments_lexer": "ipython2",
   "version": "2.7.12"
  }
 },
 "nbformat": 4,
 "nbformat_minor": 0
}
